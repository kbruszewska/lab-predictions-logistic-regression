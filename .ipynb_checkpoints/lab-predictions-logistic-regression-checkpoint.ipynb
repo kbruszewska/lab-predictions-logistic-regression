{
 "cells": [
  {
   "cell_type": "markdown",
   "id": "2b971ea5",
   "metadata": {},
   "source": [
    "### Lab | Making predictions with logistic regression\n",
    "\n",
    "In this lab, you will be using the Sakila database of movie rentals.\n",
    "\n",
    "In order to optimize our inventory, we would like to know which films will be rented. We are asked to create a model to predict it. So we use the information we have from May 2005 to create the model.\n",
    "\n",
    "Instructions\n",
    "1. Create a query or queries to extract the information you think may be relevant for building the prediction model. It should include some film features and some rental features (X).\n",
    "2. Create a query to get the list of all unique film titles and a boolean indicating if it was rented (rental_date) in May 2005. (Create new column called - 'rented_in_may'). This will be our TARGET (y) variable.\n",
    "3. Read the data into a Pandas dataframe. At this point you should have 1000 rows. Number of columns depends on the number of features you chose.\n",
    "4. Analyze extracted features (X) and transform them. You may need to encode some categorical variables, or scale numerical variables.\n",
    "5. Create a logistic regression model to predict 'rented_in_may' from the cleaned data.\n",
    "6. Evaluate the results."
   ]
  },
  {
   "cell_type": "code",
   "execution_count": 1,
   "id": "7fcb2f37",
   "metadata": {},
   "outputs": [],
   "source": [
    "import pandas as pd\n",
    "import numpy as np\n",
    "import sklearn\n",
    "from sklearn.model_selection import train_test_split\n",
    "from sklearn.preprocessing import MinMaxScaler\n",
    "from sklearn.preprocessing import OneHotEncoder\n",
    "from sklearn.linear_model import LogisticRegression\n",
    "from sklearn.metrics import precision_score\n",
    "from sklearn.metrics import recall_score\n",
    "from sklearn.metrics import f1_score"
   ]
  },
  {
   "cell_type": "code",
   "execution_count": 2,
   "id": "a0dcddbc",
   "metadata": {},
   "outputs": [
    {
     "name": "stdout",
     "output_type": "stream",
     "text": [
      "········\n"
     ]
    }
   ],
   "source": [
    "import pymysql\n",
    "from sqlalchemy import create_engine\n",
    "\n",
    "import getpass  # To get the password without showing the input\n",
    "password = getpass.getpass()"
   ]
  },
  {
   "cell_type": "code",
   "execution_count": 3,
   "id": "1ed48c8d",
   "metadata": {},
   "outputs": [],
   "source": [
    "connection_string = 'mysql+pymysql://root:' + password + '@localhost/sakila'\n",
    "engine = create_engine(connection_string)"
   ]
  },
  {
   "cell_type": "markdown",
   "id": "52ed3380",
   "metadata": {},
   "source": [
    "### 1. Creating a query for features"
   ]
  },
  {
   "cell_type": "code",
   "execution_count": 4,
   "id": "cf1d1bcf",
   "metadata": {},
   "outputs": [],
   "source": [
    "query = \"SELECT f.film_id, f.title, f.rental_duration, f.rental_rate, f.length, f.rating, f.special_features,\\\n",
    "COUNT(i.inventory_id) AS 'nr_of_inventories', c.name AS 'category_name' \\\n",
    "from film f \\\n",
    "LEFT JOIN inventory i \\\n",
    "ON f.film_id = i.film_id \\\n",
    "LEFT JOIN film_category fc \\\n",
    "ON f.film_id = fc.film_id \\\n",
    "LEFT JOIN category c \\\n",
    "ON fc.category_id = c.category_id \\\n",
    "GROUP BY f.title\"\n"
   ]
  },
  {
   "cell_type": "code",
   "execution_count": 5,
   "id": "1998782a",
   "metadata": {},
   "outputs": [
    {
     "data": {
      "text/plain": [
       "(1000, 9)"
      ]
     },
     "execution_count": 5,
     "metadata": {},
     "output_type": "execute_result"
    }
   ],
   "source": [
    "df = pd.read_sql_query(query, engine)\n",
    "df.shape"
   ]
  },
  {
   "cell_type": "code",
   "execution_count": 6,
   "id": "3e295183",
   "metadata": {},
   "outputs": [
    {
     "data": {
      "text/html": [
       "<div>\n",
       "<style scoped>\n",
       "    .dataframe tbody tr th:only-of-type {\n",
       "        vertical-align: middle;\n",
       "    }\n",
       "\n",
       "    .dataframe tbody tr th {\n",
       "        vertical-align: top;\n",
       "    }\n",
       "\n",
       "    .dataframe thead th {\n",
       "        text-align: right;\n",
       "    }\n",
       "</style>\n",
       "<table border=\"1\" class=\"dataframe\">\n",
       "  <thead>\n",
       "    <tr style=\"text-align: right;\">\n",
       "      <th></th>\n",
       "      <th>film_id</th>\n",
       "      <th>title</th>\n",
       "      <th>rental_duration</th>\n",
       "      <th>rental_rate</th>\n",
       "      <th>length</th>\n",
       "      <th>rating</th>\n",
       "      <th>special_features</th>\n",
       "      <th>nr_of_inventories</th>\n",
       "      <th>category_name</th>\n",
       "    </tr>\n",
       "  </thead>\n",
       "  <tbody>\n",
       "    <tr>\n",
       "      <th>0</th>\n",
       "      <td>1</td>\n",
       "      <td>ACADEMY DINOSAUR</td>\n",
       "      <td>6</td>\n",
       "      <td>0.99</td>\n",
       "      <td>86</td>\n",
       "      <td>PG</td>\n",
       "      <td>Deleted Scenes,Behind the Scenes</td>\n",
       "      <td>8</td>\n",
       "      <td>Documentary</td>\n",
       "    </tr>\n",
       "    <tr>\n",
       "      <th>1</th>\n",
       "      <td>2</td>\n",
       "      <td>ACE GOLDFINGER</td>\n",
       "      <td>3</td>\n",
       "      <td>4.99</td>\n",
       "      <td>48</td>\n",
       "      <td>G</td>\n",
       "      <td>Trailers,Deleted Scenes</td>\n",
       "      <td>3</td>\n",
       "      <td>Horror</td>\n",
       "    </tr>\n",
       "    <tr>\n",
       "      <th>2</th>\n",
       "      <td>3</td>\n",
       "      <td>ADAPTATION HOLES</td>\n",
       "      <td>7</td>\n",
       "      <td>2.99</td>\n",
       "      <td>50</td>\n",
       "      <td>NC-17</td>\n",
       "      <td>Trailers,Deleted Scenes</td>\n",
       "      <td>4</td>\n",
       "      <td>Documentary</td>\n",
       "    </tr>\n",
       "    <tr>\n",
       "      <th>3</th>\n",
       "      <td>4</td>\n",
       "      <td>AFFAIR PREJUDICE</td>\n",
       "      <td>5</td>\n",
       "      <td>2.99</td>\n",
       "      <td>117</td>\n",
       "      <td>G</td>\n",
       "      <td>Commentaries,Behind the Scenes</td>\n",
       "      <td>7</td>\n",
       "      <td>Horror</td>\n",
       "    </tr>\n",
       "    <tr>\n",
       "      <th>4</th>\n",
       "      <td>5</td>\n",
       "      <td>AFRICAN EGG</td>\n",
       "      <td>6</td>\n",
       "      <td>2.99</td>\n",
       "      <td>130</td>\n",
       "      <td>G</td>\n",
       "      <td>Deleted Scenes</td>\n",
       "      <td>3</td>\n",
       "      <td>Family</td>\n",
       "    </tr>\n",
       "  </tbody>\n",
       "</table>\n",
       "</div>"
      ],
      "text/plain": [
       "   film_id             title  rental_duration  rental_rate  length rating  \\\n",
       "0        1  ACADEMY DINOSAUR                6         0.99      86     PG   \n",
       "1        2    ACE GOLDFINGER                3         4.99      48      G   \n",
       "2        3  ADAPTATION HOLES                7         2.99      50  NC-17   \n",
       "3        4  AFFAIR PREJUDICE                5         2.99     117      G   \n",
       "4        5       AFRICAN EGG                6         2.99     130      G   \n",
       "\n",
       "                   special_features  nr_of_inventories category_name  \n",
       "0  Deleted Scenes,Behind the Scenes                  8   Documentary  \n",
       "1           Trailers,Deleted Scenes                  3        Horror  \n",
       "2           Trailers,Deleted Scenes                  4   Documentary  \n",
       "3    Commentaries,Behind the Scenes                  7        Horror  \n",
       "4                    Deleted Scenes                  3        Family  "
      ]
     },
     "execution_count": 6,
     "metadata": {},
     "output_type": "execute_result"
    }
   ],
   "source": [
    "df.head()"
   ]
  },
  {
   "cell_type": "markdown",
   "id": "15c023d8",
   "metadata": {},
   "source": [
    "### 2. Query to get all unique titles"
   ]
  },
  {
   "cell_type": "code",
   "execution_count": 7,
   "id": "4242de24",
   "metadata": {},
   "outputs": [
    {
     "data": {
      "text/plain": [
       "(1000, 1)"
      ]
     },
     "execution_count": 7,
     "metadata": {},
     "output_type": "execute_result"
    }
   ],
   "source": [
    "query_title = '''SELECT DISTINCT title\n",
    "from sakila.film\n",
    ";'''\n",
    "\n",
    "df_t = pd.read_sql_query(query_title, engine)\n",
    "df_t.shape"
   ]
  },
  {
   "cell_type": "code",
   "execution_count": 8,
   "id": "3f77ec67",
   "metadata": {},
   "outputs": [
    {
     "data": {
      "text/html": [
       "<div>\n",
       "<style scoped>\n",
       "    .dataframe tbody tr th:only-of-type {\n",
       "        vertical-align: middle;\n",
       "    }\n",
       "\n",
       "    .dataframe tbody tr th {\n",
       "        vertical-align: top;\n",
       "    }\n",
       "\n",
       "    .dataframe thead th {\n",
       "        text-align: right;\n",
       "    }\n",
       "</style>\n",
       "<table border=\"1\" class=\"dataframe\">\n",
       "  <thead>\n",
       "    <tr style=\"text-align: right;\">\n",
       "      <th></th>\n",
       "      <th>title</th>\n",
       "    </tr>\n",
       "  </thead>\n",
       "  <tbody>\n",
       "    <tr>\n",
       "      <th>0</th>\n",
       "      <td>ACADEMY DINOSAUR</td>\n",
       "    </tr>\n",
       "    <tr>\n",
       "      <th>1</th>\n",
       "      <td>ACE GOLDFINGER</td>\n",
       "    </tr>\n",
       "    <tr>\n",
       "      <th>2</th>\n",
       "      <td>ADAPTATION HOLES</td>\n",
       "    </tr>\n",
       "    <tr>\n",
       "      <th>3</th>\n",
       "      <td>AFFAIR PREJUDICE</td>\n",
       "    </tr>\n",
       "    <tr>\n",
       "      <th>4</th>\n",
       "      <td>AFRICAN EGG</td>\n",
       "    </tr>\n",
       "  </tbody>\n",
       "</table>\n",
       "</div>"
      ],
      "text/plain": [
       "              title\n",
       "0  ACADEMY DINOSAUR\n",
       "1    ACE GOLDFINGER\n",
       "2  ADAPTATION HOLES\n",
       "3  AFFAIR PREJUDICE\n",
       "4       AFRICAN EGG"
      ]
     },
     "execution_count": 8,
     "metadata": {},
     "output_type": "execute_result"
    }
   ],
   "source": [
    "df_t.head()"
   ]
  },
  {
   "cell_type": "code",
   "execution_count": 9,
   "id": "99537018",
   "metadata": {},
   "outputs": [],
   "source": [
    "query_rentals_may = '''SELECT DISTINCT f.title, COUNT(r.rental_date) AS \"nr_rentals_may\"\n",
    "from sakila.film f\n",
    "LEFT JOIN inventory i\n",
    "ON f.film_id = i.film_id\n",
    "left JOIN rental r ON i.inventory_id = r.inventory_id\n",
    "WHERE r.rental_date BETWEEN '2005-05-01 00:00:00' AND '2005-05-31 23:59:59'\n",
    "group by f.film_id\n",
    ";'''"
   ]
  },
  {
   "cell_type": "code",
   "execution_count": 10,
   "id": "9bffb0af",
   "metadata": {},
   "outputs": [
    {
     "data": {
      "text/plain": [
       "(686, 2)"
      ]
     },
     "execution_count": 10,
     "metadata": {},
     "output_type": "execute_result"
    }
   ],
   "source": [
    "df_rentals_may = pd.read_sql_query(query_rentals_may, engine)\n",
    "df_rentals_may.shape"
   ]
  },
  {
   "cell_type": "code",
   "execution_count": 11,
   "id": "9a95e493",
   "metadata": {},
   "outputs": [
    {
     "data": {
      "text/html": [
       "<div>\n",
       "<style scoped>\n",
       "    .dataframe tbody tr th:only-of-type {\n",
       "        vertical-align: middle;\n",
       "    }\n",
       "\n",
       "    .dataframe tbody tr th {\n",
       "        vertical-align: top;\n",
       "    }\n",
       "\n",
       "    .dataframe thead th {\n",
       "        text-align: right;\n",
       "    }\n",
       "</style>\n",
       "<table border=\"1\" class=\"dataframe\">\n",
       "  <thead>\n",
       "    <tr style=\"text-align: right;\">\n",
       "      <th></th>\n",
       "      <th>title</th>\n",
       "      <th>nr_rentals_may</th>\n",
       "    </tr>\n",
       "  </thead>\n",
       "  <tbody>\n",
       "    <tr>\n",
       "      <th>0</th>\n",
       "      <td>ACADEMY DINOSAUR</td>\n",
       "      <td>2</td>\n",
       "    </tr>\n",
       "    <tr>\n",
       "      <th>1</th>\n",
       "      <td>ADAPTATION HOLES</td>\n",
       "      <td>1</td>\n",
       "    </tr>\n",
       "    <tr>\n",
       "      <th>2</th>\n",
       "      <td>AFFAIR PREJUDICE</td>\n",
       "      <td>2</td>\n",
       "    </tr>\n",
       "    <tr>\n",
       "      <th>3</th>\n",
       "      <td>AFRICAN EGG</td>\n",
       "      <td>1</td>\n",
       "    </tr>\n",
       "    <tr>\n",
       "      <th>4</th>\n",
       "      <td>AGENT TRUMAN</td>\n",
       "      <td>2</td>\n",
       "    </tr>\n",
       "  </tbody>\n",
       "</table>\n",
       "</div>"
      ],
      "text/plain": [
       "              title  nr_rentals_may\n",
       "0  ACADEMY DINOSAUR               2\n",
       "1  ADAPTATION HOLES               1\n",
       "2  AFFAIR PREJUDICE               2\n",
       "3       AFRICAN EGG               1\n",
       "4      AGENT TRUMAN               2"
      ]
     },
     "execution_count": 11,
     "metadata": {},
     "output_type": "execute_result"
    }
   ],
   "source": [
    "df_rentals_may.head()"
   ]
  },
  {
   "cell_type": "code",
   "execution_count": null,
   "id": "afa40d96",
   "metadata": {},
   "outputs": [],
   "source": []
  },
  {
   "cell_type": "code",
   "execution_count": 12,
   "id": "5a2e980c",
   "metadata": {},
   "outputs": [],
   "source": [
    "# Merging two tables to create our target\n",
    "df_new = pd.merge(df_t, df_rentals_may, how='left', on='title')"
   ]
  },
  {
   "cell_type": "code",
   "execution_count": 13,
   "id": "e698b7c7",
   "metadata": {},
   "outputs": [
    {
     "data": {
      "text/plain": [
       "(1000, 2)"
      ]
     },
     "execution_count": 13,
     "metadata": {},
     "output_type": "execute_result"
    }
   ],
   "source": [
    "df_new.shape"
   ]
  },
  {
   "cell_type": "code",
   "execution_count": 14,
   "id": "27913062",
   "metadata": {},
   "outputs": [
    {
     "data": {
      "text/html": [
       "<div>\n",
       "<style scoped>\n",
       "    .dataframe tbody tr th:only-of-type {\n",
       "        vertical-align: middle;\n",
       "    }\n",
       "\n",
       "    .dataframe tbody tr th {\n",
       "        vertical-align: top;\n",
       "    }\n",
       "\n",
       "    .dataframe thead th {\n",
       "        text-align: right;\n",
       "    }\n",
       "</style>\n",
       "<table border=\"1\" class=\"dataframe\">\n",
       "  <thead>\n",
       "    <tr style=\"text-align: right;\">\n",
       "      <th></th>\n",
       "      <th>title</th>\n",
       "      <th>nr_rentals_may</th>\n",
       "    </tr>\n",
       "  </thead>\n",
       "  <tbody>\n",
       "    <tr>\n",
       "      <th>995</th>\n",
       "      <td>YOUNG LANGUAGE</td>\n",
       "      <td>NaN</td>\n",
       "    </tr>\n",
       "    <tr>\n",
       "      <th>996</th>\n",
       "      <td>YOUTH KICK</td>\n",
       "      <td>NaN</td>\n",
       "    </tr>\n",
       "    <tr>\n",
       "      <th>997</th>\n",
       "      <td>ZHIVAGO CORE</td>\n",
       "      <td>1.0</td>\n",
       "    </tr>\n",
       "    <tr>\n",
       "      <th>998</th>\n",
       "      <td>ZOOLANDER FICTION</td>\n",
       "      <td>1.0</td>\n",
       "    </tr>\n",
       "    <tr>\n",
       "      <th>999</th>\n",
       "      <td>ZORRO ARK</td>\n",
       "      <td>3.0</td>\n",
       "    </tr>\n",
       "  </tbody>\n",
       "</table>\n",
       "</div>"
      ],
      "text/plain": [
       "                 title  nr_rentals_may\n",
       "995     YOUNG LANGUAGE             NaN\n",
       "996         YOUTH KICK             NaN\n",
       "997       ZHIVAGO CORE             1.0\n",
       "998  ZOOLANDER FICTION             1.0\n",
       "999          ZORRO ARK             3.0"
      ]
     },
     "execution_count": 14,
     "metadata": {},
     "output_type": "execute_result"
    }
   ],
   "source": [
    "df_new.tail()"
   ]
  },
  {
   "cell_type": "code",
   "execution_count": 15,
   "id": "9af1ac60",
   "metadata": {},
   "outputs": [
    {
     "data": {
      "text/plain": [
       "title               0\n",
       "nr_rentals_may    314\n",
       "dtype: int64"
      ]
     },
     "execution_count": 15,
     "metadata": {},
     "output_type": "execute_result"
    }
   ],
   "source": [
    "df_new.isna().sum()"
   ]
  },
  {
   "cell_type": "code",
   "execution_count": 16,
   "id": "593a0bff",
   "metadata": {},
   "outputs": [
    {
     "data": {
      "text/plain": [
       "array([ 2., nan,  1.,  3.,  4.,  5.])"
      ]
     },
     "execution_count": 16,
     "metadata": {},
     "output_type": "execute_result"
    }
   ],
   "source": [
    "df_new[\"nr_rentals_may\"].unique()"
   ]
  },
  {
   "cell_type": "code",
   "execution_count": 17,
   "id": "2ff8a915",
   "metadata": {},
   "outputs": [],
   "source": [
    "df_new[\"nr_rentals_may\"] = df_new[\"nr_rentals_may\"].fillna(0)"
   ]
  },
  {
   "cell_type": "code",
   "execution_count": 18,
   "id": "50fb2574",
   "metadata": {},
   "outputs": [
    {
     "data": {
      "text/plain": [
       "array([2., 0., 1., 3., 4., 5.])"
      ]
     },
     "execution_count": 18,
     "metadata": {},
     "output_type": "execute_result"
    }
   ],
   "source": [
    "# Changing nan with 0 \n",
    "df_new[\"nr_rentals_may\"].unique()"
   ]
  },
  {
   "cell_type": "code",
   "execution_count": 19,
   "id": "f8837eca",
   "metadata": {},
   "outputs": [
    {
     "data": {
      "text/plain": [
       "title             0\n",
       "nr_rentals_may    0\n",
       "dtype: int64"
      ]
     },
     "execution_count": 19,
     "metadata": {},
     "output_type": "execute_result"
    }
   ],
   "source": [
    "df_new.isna().sum()"
   ]
  },
  {
   "cell_type": "code",
   "execution_count": null,
   "id": "e0bf4876",
   "metadata": {},
   "outputs": [],
   "source": []
  },
  {
   "cell_type": "code",
   "execution_count": 20,
   "id": "b716674a",
   "metadata": {},
   "outputs": [],
   "source": [
    "# Creating a boolean mask\n",
    "# 1 for it was rented in Mai\n",
    "# 0 for it was not rented in Mai"
   ]
  },
  {
   "cell_type": "code",
   "execution_count": 21,
   "id": "f9fbc02d",
   "metadata": {},
   "outputs": [
    {
     "data": {
      "text/html": [
       "<div>\n",
       "<style scoped>\n",
       "    .dataframe tbody tr th:only-of-type {\n",
       "        vertical-align: middle;\n",
       "    }\n",
       "\n",
       "    .dataframe tbody tr th {\n",
       "        vertical-align: top;\n",
       "    }\n",
       "\n",
       "    .dataframe thead th {\n",
       "        text-align: right;\n",
       "    }\n",
       "</style>\n",
       "<table border=\"1\" class=\"dataframe\">\n",
       "  <thead>\n",
       "    <tr style=\"text-align: right;\">\n",
       "      <th></th>\n",
       "      <th>title</th>\n",
       "      <th>nr_rentals_may</th>\n",
       "      <th>rented_in_may</th>\n",
       "    </tr>\n",
       "  </thead>\n",
       "  <tbody>\n",
       "    <tr>\n",
       "      <th>995</th>\n",
       "      <td>YOUNG LANGUAGE</td>\n",
       "      <td>0.0</td>\n",
       "      <td>False</td>\n",
       "    </tr>\n",
       "    <tr>\n",
       "      <th>996</th>\n",
       "      <td>YOUTH KICK</td>\n",
       "      <td>0.0</td>\n",
       "      <td>False</td>\n",
       "    </tr>\n",
       "    <tr>\n",
       "      <th>997</th>\n",
       "      <td>ZHIVAGO CORE</td>\n",
       "      <td>1.0</td>\n",
       "      <td>True</td>\n",
       "    </tr>\n",
       "    <tr>\n",
       "      <th>998</th>\n",
       "      <td>ZOOLANDER FICTION</td>\n",
       "      <td>1.0</td>\n",
       "      <td>True</td>\n",
       "    </tr>\n",
       "    <tr>\n",
       "      <th>999</th>\n",
       "      <td>ZORRO ARK</td>\n",
       "      <td>3.0</td>\n",
       "      <td>True</td>\n",
       "    </tr>\n",
       "  </tbody>\n",
       "</table>\n",
       "</div>"
      ],
      "text/plain": [
       "                 title  nr_rentals_may  rented_in_may\n",
       "995     YOUNG LANGUAGE             0.0          False\n",
       "996         YOUTH KICK             0.0          False\n",
       "997       ZHIVAGO CORE             1.0           True\n",
       "998  ZOOLANDER FICTION             1.0           True\n",
       "999          ZORRO ARK             3.0           True"
      ]
     },
     "execution_count": 21,
     "metadata": {},
     "output_type": "execute_result"
    }
   ],
   "source": [
    "# Creating a new column with boolean mask\n",
    "df_new[\"rented_in_may\"] = df_new[\"nr_rentals_may\"]>0\n",
    "df_new.tail()"
   ]
  },
  {
   "cell_type": "markdown",
   "id": "57672353",
   "metadata": {},
   "source": [
    "### 3. Creating a data frame with all features and boolean mask"
   ]
  },
  {
   "cell_type": "code",
   "execution_count": 22,
   "id": "852358eb",
   "metadata": {},
   "outputs": [
    {
     "data": {
      "text/html": [
       "<div>\n",
       "<style scoped>\n",
       "    .dataframe tbody tr th:only-of-type {\n",
       "        vertical-align: middle;\n",
       "    }\n",
       "\n",
       "    .dataframe tbody tr th {\n",
       "        vertical-align: top;\n",
       "    }\n",
       "\n",
       "    .dataframe thead th {\n",
       "        text-align: right;\n",
       "    }\n",
       "</style>\n",
       "<table border=\"1\" class=\"dataframe\">\n",
       "  <thead>\n",
       "    <tr style=\"text-align: right;\">\n",
       "      <th></th>\n",
       "      <th>film_id</th>\n",
       "      <th>title</th>\n",
       "      <th>rental_duration</th>\n",
       "      <th>rental_rate</th>\n",
       "      <th>length</th>\n",
       "      <th>rating</th>\n",
       "      <th>special_features</th>\n",
       "      <th>nr_of_inventories</th>\n",
       "      <th>category_name</th>\n",
       "      <th>nr_rentals_may</th>\n",
       "      <th>rented_in_may</th>\n",
       "    </tr>\n",
       "  </thead>\n",
       "  <tbody>\n",
       "    <tr>\n",
       "      <th>0</th>\n",
       "      <td>1</td>\n",
       "      <td>ACADEMY DINOSAUR</td>\n",
       "      <td>6</td>\n",
       "      <td>0.99</td>\n",
       "      <td>86</td>\n",
       "      <td>PG</td>\n",
       "      <td>Deleted Scenes,Behind the Scenes</td>\n",
       "      <td>8</td>\n",
       "      <td>Documentary</td>\n",
       "      <td>2.0</td>\n",
       "      <td>True</td>\n",
       "    </tr>\n",
       "    <tr>\n",
       "      <th>1</th>\n",
       "      <td>2</td>\n",
       "      <td>ACE GOLDFINGER</td>\n",
       "      <td>3</td>\n",
       "      <td>4.99</td>\n",
       "      <td>48</td>\n",
       "      <td>G</td>\n",
       "      <td>Trailers,Deleted Scenes</td>\n",
       "      <td>3</td>\n",
       "      <td>Horror</td>\n",
       "      <td>0.0</td>\n",
       "      <td>False</td>\n",
       "    </tr>\n",
       "    <tr>\n",
       "      <th>2</th>\n",
       "      <td>3</td>\n",
       "      <td>ADAPTATION HOLES</td>\n",
       "      <td>7</td>\n",
       "      <td>2.99</td>\n",
       "      <td>50</td>\n",
       "      <td>NC-17</td>\n",
       "      <td>Trailers,Deleted Scenes</td>\n",
       "      <td>4</td>\n",
       "      <td>Documentary</td>\n",
       "      <td>1.0</td>\n",
       "      <td>True</td>\n",
       "    </tr>\n",
       "    <tr>\n",
       "      <th>3</th>\n",
       "      <td>4</td>\n",
       "      <td>AFFAIR PREJUDICE</td>\n",
       "      <td>5</td>\n",
       "      <td>2.99</td>\n",
       "      <td>117</td>\n",
       "      <td>G</td>\n",
       "      <td>Commentaries,Behind the Scenes</td>\n",
       "      <td>7</td>\n",
       "      <td>Horror</td>\n",
       "      <td>2.0</td>\n",
       "      <td>True</td>\n",
       "    </tr>\n",
       "    <tr>\n",
       "      <th>4</th>\n",
       "      <td>5</td>\n",
       "      <td>AFRICAN EGG</td>\n",
       "      <td>6</td>\n",
       "      <td>2.99</td>\n",
       "      <td>130</td>\n",
       "      <td>G</td>\n",
       "      <td>Deleted Scenes</td>\n",
       "      <td>3</td>\n",
       "      <td>Family</td>\n",
       "      <td>1.0</td>\n",
       "      <td>True</td>\n",
       "    </tr>\n",
       "    <tr>\n",
       "      <th>...</th>\n",
       "      <td>...</td>\n",
       "      <td>...</td>\n",
       "      <td>...</td>\n",
       "      <td>...</td>\n",
       "      <td>...</td>\n",
       "      <td>...</td>\n",
       "      <td>...</td>\n",
       "      <td>...</td>\n",
       "      <td>...</td>\n",
       "      <td>...</td>\n",
       "      <td>...</td>\n",
       "    </tr>\n",
       "    <tr>\n",
       "      <th>995</th>\n",
       "      <td>996</td>\n",
       "      <td>YOUNG LANGUAGE</td>\n",
       "      <td>6</td>\n",
       "      <td>0.99</td>\n",
       "      <td>183</td>\n",
       "      <td>G</td>\n",
       "      <td>Trailers,Behind the Scenes</td>\n",
       "      <td>2</td>\n",
       "      <td>Documentary</td>\n",
       "      <td>0.0</td>\n",
       "      <td>False</td>\n",
       "    </tr>\n",
       "    <tr>\n",
       "      <th>996</th>\n",
       "      <td>997</td>\n",
       "      <td>YOUTH KICK</td>\n",
       "      <td>4</td>\n",
       "      <td>0.99</td>\n",
       "      <td>179</td>\n",
       "      <td>NC-17</td>\n",
       "      <td>Trailers,Behind the Scenes</td>\n",
       "      <td>2</td>\n",
       "      <td>Music</td>\n",
       "      <td>0.0</td>\n",
       "      <td>False</td>\n",
       "    </tr>\n",
       "    <tr>\n",
       "      <th>997</th>\n",
       "      <td>998</td>\n",
       "      <td>ZHIVAGO CORE</td>\n",
       "      <td>6</td>\n",
       "      <td>0.99</td>\n",
       "      <td>105</td>\n",
       "      <td>NC-17</td>\n",
       "      <td>Deleted Scenes</td>\n",
       "      <td>2</td>\n",
       "      <td>Horror</td>\n",
       "      <td>1.0</td>\n",
       "      <td>True</td>\n",
       "    </tr>\n",
       "    <tr>\n",
       "      <th>998</th>\n",
       "      <td>999</td>\n",
       "      <td>ZOOLANDER FICTION</td>\n",
       "      <td>5</td>\n",
       "      <td>2.99</td>\n",
       "      <td>101</td>\n",
       "      <td>R</td>\n",
       "      <td>Trailers,Deleted Scenes</td>\n",
       "      <td>5</td>\n",
       "      <td>Children</td>\n",
       "      <td>1.0</td>\n",
       "      <td>True</td>\n",
       "    </tr>\n",
       "    <tr>\n",
       "      <th>999</th>\n",
       "      <td>1000</td>\n",
       "      <td>ZORRO ARK</td>\n",
       "      <td>3</td>\n",
       "      <td>4.99</td>\n",
       "      <td>50</td>\n",
       "      <td>NC-17</td>\n",
       "      <td>Trailers,Commentaries,Behind the Scenes</td>\n",
       "      <td>8</td>\n",
       "      <td>Comedy</td>\n",
       "      <td>3.0</td>\n",
       "      <td>True</td>\n",
       "    </tr>\n",
       "  </tbody>\n",
       "</table>\n",
       "<p>1000 rows × 11 columns</p>\n",
       "</div>"
      ],
      "text/plain": [
       "     film_id              title  rental_duration  rental_rate  length rating  \\\n",
       "0          1   ACADEMY DINOSAUR                6         0.99      86     PG   \n",
       "1          2     ACE GOLDFINGER                3         4.99      48      G   \n",
       "2          3   ADAPTATION HOLES                7         2.99      50  NC-17   \n",
       "3          4   AFFAIR PREJUDICE                5         2.99     117      G   \n",
       "4          5        AFRICAN EGG                6         2.99     130      G   \n",
       "..       ...                ...              ...          ...     ...    ...   \n",
       "995      996     YOUNG LANGUAGE                6         0.99     183      G   \n",
       "996      997         YOUTH KICK                4         0.99     179  NC-17   \n",
       "997      998       ZHIVAGO CORE                6         0.99     105  NC-17   \n",
       "998      999  ZOOLANDER FICTION                5         2.99     101      R   \n",
       "999     1000          ZORRO ARK                3         4.99      50  NC-17   \n",
       "\n",
       "                            special_features  nr_of_inventories category_name  \\\n",
       "0           Deleted Scenes,Behind the Scenes                  8   Documentary   \n",
       "1                    Trailers,Deleted Scenes                  3        Horror   \n",
       "2                    Trailers,Deleted Scenes                  4   Documentary   \n",
       "3             Commentaries,Behind the Scenes                  7        Horror   \n",
       "4                             Deleted Scenes                  3        Family   \n",
       "..                                       ...                ...           ...   \n",
       "995               Trailers,Behind the Scenes                  2   Documentary   \n",
       "996               Trailers,Behind the Scenes                  2         Music   \n",
       "997                           Deleted Scenes                  2        Horror   \n",
       "998                  Trailers,Deleted Scenes                  5      Children   \n",
       "999  Trailers,Commentaries,Behind the Scenes                  8        Comedy   \n",
       "\n",
       "     nr_rentals_may  rented_in_may  \n",
       "0               2.0           True  \n",
       "1               0.0          False  \n",
       "2               1.0           True  \n",
       "3               2.0           True  \n",
       "4               1.0           True  \n",
       "..              ...            ...  \n",
       "995             0.0          False  \n",
       "996             0.0          False  \n",
       "997             1.0           True  \n",
       "998             1.0           True  \n",
       "999             3.0           True  \n",
       "\n",
       "[1000 rows x 11 columns]"
      ]
     },
     "execution_count": 22,
     "metadata": {},
     "output_type": "execute_result"
    }
   ],
   "source": [
    "df2 = pd.merge(df, df_new, how='left', on='title')\n",
    "df2"
   ]
  },
  {
   "cell_type": "markdown",
   "id": "e0f9ac66",
   "metadata": {},
   "source": [
    "### 4. Analyze extracted features (X) and transform them. You may need to encode some categorical variables, or scale numerical variables."
   ]
  },
  {
   "cell_type": "markdown",
   "id": "9ffe520f",
   "metadata": {},
   "source": [
    "Before I start to analyze further, I decided to drop some features:\n",
    "- film_id (because this are all unique numbers and they dont give us any new informations)\n",
    "- title is also unique for all rows\n",
    "- special_features"
   ]
  },
  {
   "cell_type": "code",
   "execution_count": 23,
   "id": "1535275e",
   "metadata": {},
   "outputs": [],
   "source": [
    "df2 = df2.drop([\"film_id\", \"title\", \"special_features\"], axis=1)"
   ]
  },
  {
   "cell_type": "code",
   "execution_count": 24,
   "id": "2e184f45",
   "metadata": {},
   "outputs": [
    {
     "data": {
      "text/html": [
       "<div>\n",
       "<style scoped>\n",
       "    .dataframe tbody tr th:only-of-type {\n",
       "        vertical-align: middle;\n",
       "    }\n",
       "\n",
       "    .dataframe tbody tr th {\n",
       "        vertical-align: top;\n",
       "    }\n",
       "\n",
       "    .dataframe thead th {\n",
       "        text-align: right;\n",
       "    }\n",
       "</style>\n",
       "<table border=\"1\" class=\"dataframe\">\n",
       "  <thead>\n",
       "    <tr style=\"text-align: right;\">\n",
       "      <th></th>\n",
       "      <th>rental_duration</th>\n",
       "      <th>rental_rate</th>\n",
       "      <th>length</th>\n",
       "      <th>rating</th>\n",
       "      <th>nr_of_inventories</th>\n",
       "      <th>category_name</th>\n",
       "      <th>nr_rentals_may</th>\n",
       "      <th>rented_in_may</th>\n",
       "    </tr>\n",
       "  </thead>\n",
       "  <tbody>\n",
       "    <tr>\n",
       "      <th>0</th>\n",
       "      <td>6</td>\n",
       "      <td>0.99</td>\n",
       "      <td>86</td>\n",
       "      <td>PG</td>\n",
       "      <td>8</td>\n",
       "      <td>Documentary</td>\n",
       "      <td>2.0</td>\n",
       "      <td>True</td>\n",
       "    </tr>\n",
       "    <tr>\n",
       "      <th>1</th>\n",
       "      <td>3</td>\n",
       "      <td>4.99</td>\n",
       "      <td>48</td>\n",
       "      <td>G</td>\n",
       "      <td>3</td>\n",
       "      <td>Horror</td>\n",
       "      <td>0.0</td>\n",
       "      <td>False</td>\n",
       "    </tr>\n",
       "    <tr>\n",
       "      <th>2</th>\n",
       "      <td>7</td>\n",
       "      <td>2.99</td>\n",
       "      <td>50</td>\n",
       "      <td>NC-17</td>\n",
       "      <td>4</td>\n",
       "      <td>Documentary</td>\n",
       "      <td>1.0</td>\n",
       "      <td>True</td>\n",
       "    </tr>\n",
       "    <tr>\n",
       "      <th>3</th>\n",
       "      <td>5</td>\n",
       "      <td>2.99</td>\n",
       "      <td>117</td>\n",
       "      <td>G</td>\n",
       "      <td>7</td>\n",
       "      <td>Horror</td>\n",
       "      <td>2.0</td>\n",
       "      <td>True</td>\n",
       "    </tr>\n",
       "    <tr>\n",
       "      <th>4</th>\n",
       "      <td>6</td>\n",
       "      <td>2.99</td>\n",
       "      <td>130</td>\n",
       "      <td>G</td>\n",
       "      <td>3</td>\n",
       "      <td>Family</td>\n",
       "      <td>1.0</td>\n",
       "      <td>True</td>\n",
       "    </tr>\n",
       "  </tbody>\n",
       "</table>\n",
       "</div>"
      ],
      "text/plain": [
       "   rental_duration  rental_rate  length rating  nr_of_inventories  \\\n",
       "0                6         0.99      86     PG                  8   \n",
       "1                3         4.99      48      G                  3   \n",
       "2                7         2.99      50  NC-17                  4   \n",
       "3                5         2.99     117      G                  7   \n",
       "4                6         2.99     130      G                  3   \n",
       "\n",
       "  category_name  nr_rentals_may  rented_in_may  \n",
       "0   Documentary             2.0           True  \n",
       "1        Horror             0.0          False  \n",
       "2   Documentary             1.0           True  \n",
       "3        Horror             2.0           True  \n",
       "4        Family             1.0           True  "
      ]
     },
     "execution_count": 24,
     "metadata": {},
     "output_type": "execute_result"
    }
   ],
   "source": [
    "df2.head()"
   ]
  },
  {
   "cell_type": "markdown",
   "id": "f0fca2a7",
   "metadata": {},
   "source": [
    "Next steps:\n",
    "\n",
    "- X/y split (feature/target) : X, y\n",
    "- train/test split           : X_train, X_test, y_train, y_test\n",
    "- num/cat split              : X_train_num, X_train_cat, X_test_num, X_test_cat\n",
    "\n",
    "- fit transformer/scaler on X_train_num\n",
    "- run transformer on X_train_num     : X_train_normalized\n",
    "- run same transformer on X_test_num : X_test_normalized\n",
    "- fit encoder on X_train_cat\n",
    "- run encoder on X_train_cat         : X_train_encoded\n",
    "- run same encoder on X_test_cat     : X_test_encoded\n",
    "\n",
    "- concat X_train_normalized and X_train_encoded : X_train_transformed\n",
    "- choose model (LienarRegression on numeric target, LogisticRegression(=classification!) on categorical target)\n",
    "- fit (train) model in X_train_transformed      : model\n",
    "- concat X_test_normalized and X_test_encoded   : X_test_transformed\n",
    "- make predictions using X_test_transfomed      : model.predict -> predictions\n",
    "- compute score using predictions and y_test"
   ]
  },
  {
   "cell_type": "markdown",
   "id": "e03f253e",
   "metadata": {},
   "source": [
    "#### X, y split"
   ]
  },
  {
   "cell_type": "markdown",
   "id": "8d3f83f4",
   "metadata": {},
   "source": [
    "Before I do a split, I will change True/False values from rented_in_may into 0/1."
   ]
  },
  {
   "cell_type": "code",
   "execution_count": 25,
   "id": "b6db8541",
   "metadata": {},
   "outputs": [],
   "source": [
    "df2['rented_in_may'].replace({True: 1, False: 0}, inplace=True)"
   ]
  },
  {
   "cell_type": "code",
   "execution_count": 26,
   "id": "f6235f5b",
   "metadata": {},
   "outputs": [
    {
     "data": {
      "text/html": [
       "<div>\n",
       "<style scoped>\n",
       "    .dataframe tbody tr th:only-of-type {\n",
       "        vertical-align: middle;\n",
       "    }\n",
       "\n",
       "    .dataframe tbody tr th {\n",
       "        vertical-align: top;\n",
       "    }\n",
       "\n",
       "    .dataframe thead th {\n",
       "        text-align: right;\n",
       "    }\n",
       "</style>\n",
       "<table border=\"1\" class=\"dataframe\">\n",
       "  <thead>\n",
       "    <tr style=\"text-align: right;\">\n",
       "      <th></th>\n",
       "      <th>rental_duration</th>\n",
       "      <th>rental_rate</th>\n",
       "      <th>length</th>\n",
       "      <th>rating</th>\n",
       "      <th>nr_of_inventories</th>\n",
       "      <th>category_name</th>\n",
       "      <th>nr_rentals_may</th>\n",
       "      <th>rented_in_may</th>\n",
       "    </tr>\n",
       "  </thead>\n",
       "  <tbody>\n",
       "    <tr>\n",
       "      <th>0</th>\n",
       "      <td>6</td>\n",
       "      <td>0.99</td>\n",
       "      <td>86</td>\n",
       "      <td>PG</td>\n",
       "      <td>8</td>\n",
       "      <td>Documentary</td>\n",
       "      <td>2.0</td>\n",
       "      <td>1</td>\n",
       "    </tr>\n",
       "    <tr>\n",
       "      <th>1</th>\n",
       "      <td>3</td>\n",
       "      <td>4.99</td>\n",
       "      <td>48</td>\n",
       "      <td>G</td>\n",
       "      <td>3</td>\n",
       "      <td>Horror</td>\n",
       "      <td>0.0</td>\n",
       "      <td>0</td>\n",
       "    </tr>\n",
       "    <tr>\n",
       "      <th>2</th>\n",
       "      <td>7</td>\n",
       "      <td>2.99</td>\n",
       "      <td>50</td>\n",
       "      <td>NC-17</td>\n",
       "      <td>4</td>\n",
       "      <td>Documentary</td>\n",
       "      <td>1.0</td>\n",
       "      <td>1</td>\n",
       "    </tr>\n",
       "    <tr>\n",
       "      <th>3</th>\n",
       "      <td>5</td>\n",
       "      <td>2.99</td>\n",
       "      <td>117</td>\n",
       "      <td>G</td>\n",
       "      <td>7</td>\n",
       "      <td>Horror</td>\n",
       "      <td>2.0</td>\n",
       "      <td>1</td>\n",
       "    </tr>\n",
       "    <tr>\n",
       "      <th>4</th>\n",
       "      <td>6</td>\n",
       "      <td>2.99</td>\n",
       "      <td>130</td>\n",
       "      <td>G</td>\n",
       "      <td>3</td>\n",
       "      <td>Family</td>\n",
       "      <td>1.0</td>\n",
       "      <td>1</td>\n",
       "    </tr>\n",
       "  </tbody>\n",
       "</table>\n",
       "</div>"
      ],
      "text/plain": [
       "   rental_duration  rental_rate  length rating  nr_of_inventories  \\\n",
       "0                6         0.99      86     PG                  8   \n",
       "1                3         4.99      48      G                  3   \n",
       "2                7         2.99      50  NC-17                  4   \n",
       "3                5         2.99     117      G                  7   \n",
       "4                6         2.99     130      G                  3   \n",
       "\n",
       "  category_name  nr_rentals_may  rented_in_may  \n",
       "0   Documentary             2.0              1  \n",
       "1        Horror             0.0              0  \n",
       "2   Documentary             1.0              1  \n",
       "3        Horror             2.0              1  \n",
       "4        Family             1.0              1  "
      ]
     },
     "execution_count": 26,
     "metadata": {},
     "output_type": "execute_result"
    }
   ],
   "source": [
    "df2.head()"
   ]
  },
  {
   "cell_type": "code",
   "execution_count": 27,
   "id": "a78624cd",
   "metadata": {},
   "outputs": [],
   "source": [
    "# Splitting data in y (target) and X (features)\n",
    "y = df2[\"rented_in_may\"]\n",
    "X = df2.drop([\"rented_in_may\"], axis=1)"
   ]
  },
  {
   "cell_type": "markdown",
   "id": "0d590d23",
   "metadata": {},
   "source": [
    "#### train/test split : X_train, X_test, y_train, y_test"
   ]
  },
  {
   "cell_type": "code",
   "execution_count": 28,
   "id": "aad1a12a",
   "metadata": {},
   "outputs": [],
   "source": [
    "X_train, X_test, y_train, y_test = train_test_split(X, y, random_state=0)"
   ]
  },
  {
   "cell_type": "code",
   "execution_count": 29,
   "id": "762697e4",
   "metadata": {},
   "outputs": [
    {
     "data": {
      "text/plain": [
       "(750, 7)"
      ]
     },
     "execution_count": 29,
     "metadata": {},
     "output_type": "execute_result"
    }
   ],
   "source": [
    "X_train.shape"
   ]
  },
  {
   "cell_type": "code",
   "execution_count": null,
   "id": "2f4a0686",
   "metadata": {},
   "outputs": [],
   "source": []
  },
  {
   "cell_type": "markdown",
   "id": "5a16f0e0",
   "metadata": {},
   "source": [
    "#### num/cat split : X_train_num, X_train_cat, X_test_num, X_test_cat"
   ]
  },
  {
   "cell_type": "code",
   "execution_count": 30,
   "id": "b79801ca",
   "metadata": {},
   "outputs": [],
   "source": [
    "# numerical/categorical on train set\n",
    "X_train_num = X_train.select_dtypes(include = np.number)\n",
    "X_train_cat = X_train.select_dtypes(include = object)\n",
    "\n",
    "# numerical/categorical on test set\n",
    "X_test_num = X_test.select_dtypes(include = np.number)\n",
    "X_test_cat = X_test.select_dtypes(include = object)"
   ]
  },
  {
   "cell_type": "code",
   "execution_count": 31,
   "id": "39739d96",
   "metadata": {},
   "outputs": [
    {
     "data": {
      "text/plain": [
       "(750, 5)"
      ]
     },
     "metadata": {},
     "output_type": "display_data"
    },
    {
     "data": {
      "text/plain": [
       "(750, 2)"
      ]
     },
     "metadata": {},
     "output_type": "display_data"
    }
   ],
   "source": [
    "display(X_train_num.shape)\n",
    "display(X_train_cat.shape)"
   ]
  },
  {
   "cell_type": "code",
   "execution_count": 32,
   "id": "15b8f256",
   "metadata": {},
   "outputs": [
    {
     "data": {
      "text/html": [
       "<div>\n",
       "<style scoped>\n",
       "    .dataframe tbody tr th:only-of-type {\n",
       "        vertical-align: middle;\n",
       "    }\n",
       "\n",
       "    .dataframe tbody tr th {\n",
       "        vertical-align: top;\n",
       "    }\n",
       "\n",
       "    .dataframe thead th {\n",
       "        text-align: right;\n",
       "    }\n",
       "</style>\n",
       "<table border=\"1\" class=\"dataframe\">\n",
       "  <thead>\n",
       "    <tr style=\"text-align: right;\">\n",
       "      <th></th>\n",
       "      <th>rental_duration</th>\n",
       "      <th>rental_rate</th>\n",
       "      <th>length</th>\n",
       "      <th>nr_of_inventories</th>\n",
       "      <th>nr_rentals_may</th>\n",
       "    </tr>\n",
       "  </thead>\n",
       "  <tbody>\n",
       "    <tr>\n",
       "      <th>253</th>\n",
       "      <td>4</td>\n",
       "      <td>2.99</td>\n",
       "      <td>159</td>\n",
       "      <td>5</td>\n",
       "      <td>2.0</td>\n",
       "    </tr>\n",
       "    <tr>\n",
       "      <th>667</th>\n",
       "      <td>7</td>\n",
       "      <td>4.99</td>\n",
       "      <td>80</td>\n",
       "      <td>5</td>\n",
       "      <td>2.0</td>\n",
       "    </tr>\n",
       "    <tr>\n",
       "      <th>85</th>\n",
       "      <td>6</td>\n",
       "      <td>4.99</td>\n",
       "      <td>121</td>\n",
       "      <td>8</td>\n",
       "      <td>4.0</td>\n",
       "    </tr>\n",
       "    <tr>\n",
       "      <th>969</th>\n",
       "      <td>7</td>\n",
       "      <td>0.99</td>\n",
       "      <td>52</td>\n",
       "      <td>7</td>\n",
       "      <td>1.0</td>\n",
       "    </tr>\n",
       "    <tr>\n",
       "      <th>75</th>\n",
       "      <td>4</td>\n",
       "      <td>0.99</td>\n",
       "      <td>103</td>\n",
       "      <td>3</td>\n",
       "      <td>0.0</td>\n",
       "    </tr>\n",
       "  </tbody>\n",
       "</table>\n",
       "</div>"
      ],
      "text/plain": [
       "     rental_duration  rental_rate  length  nr_of_inventories  nr_rentals_may\n",
       "253                4         2.99     159                  5             2.0\n",
       "667                7         4.99      80                  5             2.0\n",
       "85                 6         4.99     121                  8             4.0\n",
       "969                7         0.99      52                  7             1.0\n",
       "75                 4         0.99     103                  3             0.0"
      ]
     },
     "execution_count": 32,
     "metadata": {},
     "output_type": "execute_result"
    }
   ],
   "source": [
    "X_train_num.head()"
   ]
  },
  {
   "cell_type": "markdown",
   "id": "c032be3f",
   "metadata": {},
   "source": [
    "#### fit transformer/scaler on X_train_num"
   ]
  },
  {
   "cell_type": "code",
   "execution_count": 33,
   "id": "2e53cf03",
   "metadata": {},
   "outputs": [],
   "source": [
    "# Creating a transformer.\n",
    "# Fitting transformer ONLY with training set. \n",
    "transformer = MinMaxScaler().fit(X_train_num)\n"
   ]
  },
  {
   "cell_type": "code",
   "execution_count": null,
   "id": "ebc2ed15",
   "metadata": {},
   "outputs": [],
   "source": []
  },
  {
   "cell_type": "markdown",
   "id": "b5ca00b1",
   "metadata": {},
   "source": [
    "#### run transformer on X_train_num : X_train_normalized"
   ]
  },
  {
   "cell_type": "code",
   "execution_count": 34,
   "id": "f9b9357f",
   "metadata": {},
   "outputs": [
    {
     "data": {
      "text/html": [
       "<div>\n",
       "<style scoped>\n",
       "    .dataframe tbody tr th:only-of-type {\n",
       "        vertical-align: middle;\n",
       "    }\n",
       "\n",
       "    .dataframe tbody tr th {\n",
       "        vertical-align: top;\n",
       "    }\n",
       "\n",
       "    .dataframe thead th {\n",
       "        text-align: right;\n",
       "    }\n",
       "</style>\n",
       "<table border=\"1\" class=\"dataframe\">\n",
       "  <thead>\n",
       "    <tr style=\"text-align: right;\">\n",
       "      <th></th>\n",
       "      <th>rental_duration</th>\n",
       "      <th>rental_rate</th>\n",
       "      <th>length</th>\n",
       "      <th>nr_of_inventories</th>\n",
       "      <th>nr_rentals_may</th>\n",
       "    </tr>\n",
       "  </thead>\n",
       "  <tbody>\n",
       "    <tr>\n",
       "      <th>0</th>\n",
       "      <td>0.25</td>\n",
       "      <td>0.5</td>\n",
       "      <td>0.812950</td>\n",
       "      <td>0.625</td>\n",
       "      <td>0.4</td>\n",
       "    </tr>\n",
       "    <tr>\n",
       "      <th>1</th>\n",
       "      <td>1.00</td>\n",
       "      <td>1.0</td>\n",
       "      <td>0.244604</td>\n",
       "      <td>0.625</td>\n",
       "      <td>0.4</td>\n",
       "    </tr>\n",
       "    <tr>\n",
       "      <th>2</th>\n",
       "      <td>0.75</td>\n",
       "      <td>1.0</td>\n",
       "      <td>0.539568</td>\n",
       "      <td>1.000</td>\n",
       "      <td>0.8</td>\n",
       "    </tr>\n",
       "    <tr>\n",
       "      <th>3</th>\n",
       "      <td>1.00</td>\n",
       "      <td>0.0</td>\n",
       "      <td>0.043165</td>\n",
       "      <td>0.875</td>\n",
       "      <td>0.2</td>\n",
       "    </tr>\n",
       "    <tr>\n",
       "      <th>4</th>\n",
       "      <td>0.25</td>\n",
       "      <td>0.0</td>\n",
       "      <td>0.410072</td>\n",
       "      <td>0.375</td>\n",
       "      <td>0.0</td>\n",
       "    </tr>\n",
       "  </tbody>\n",
       "</table>\n",
       "</div>"
      ],
      "text/plain": [
       "   rental_duration  rental_rate    length  nr_of_inventories  nr_rentals_may\n",
       "0             0.25          0.5  0.812950              0.625             0.4\n",
       "1             1.00          1.0  0.244604              0.625             0.4\n",
       "2             0.75          1.0  0.539568              1.000             0.8\n",
       "3             1.00          0.0  0.043165              0.875             0.2\n",
       "4             0.25          0.0  0.410072              0.375             0.0"
      ]
     },
     "execution_count": 34,
     "metadata": {},
     "output_type": "execute_result"
    }
   ],
   "source": [
    "X_train_normalized = transformer.transform(X_train_num)\n",
    "df_X_train_normalized = pd.DataFrame(X_train_normalized, columns=X_train_num.columns)\n",
    "df_X_train_normalized.head()"
   ]
  },
  {
   "cell_type": "markdown",
   "id": "87601a81",
   "metadata": {},
   "source": [
    "#### run same transformer on X_test_num : X_test_normalized\n",
    "Important note:\n",
    "- Do not fit the transformer with testing set!"
   ]
  },
  {
   "cell_type": "code",
   "execution_count": 35,
   "id": "039d1f6c",
   "metadata": {},
   "outputs": [
    {
     "data": {
      "text/html": [
       "<div>\n",
       "<style scoped>\n",
       "    .dataframe tbody tr th:only-of-type {\n",
       "        vertical-align: middle;\n",
       "    }\n",
       "\n",
       "    .dataframe tbody tr th {\n",
       "        vertical-align: top;\n",
       "    }\n",
       "\n",
       "    .dataframe thead th {\n",
       "        text-align: right;\n",
       "    }\n",
       "</style>\n",
       "<table border=\"1\" class=\"dataframe\">\n",
       "  <thead>\n",
       "    <tr style=\"text-align: right;\">\n",
       "      <th></th>\n",
       "      <th>rental_duration</th>\n",
       "      <th>rental_rate</th>\n",
       "      <th>length</th>\n",
       "      <th>nr_of_inventories</th>\n",
       "      <th>nr_rentals_may</th>\n",
       "    </tr>\n",
       "  </thead>\n",
       "  <tbody>\n",
       "    <tr>\n",
       "      <th>0</th>\n",
       "      <td>0.75</td>\n",
       "      <td>1.0</td>\n",
       "      <td>0.388489</td>\n",
       "      <td>0.375</td>\n",
       "      <td>0.4</td>\n",
       "    </tr>\n",
       "    <tr>\n",
       "      <th>1</th>\n",
       "      <td>0.25</td>\n",
       "      <td>1.0</td>\n",
       "      <td>0.338129</td>\n",
       "      <td>0.000</td>\n",
       "      <td>0.0</td>\n",
       "    </tr>\n",
       "    <tr>\n",
       "      <th>2</th>\n",
       "      <td>0.25</td>\n",
       "      <td>0.0</td>\n",
       "      <td>0.705036</td>\n",
       "      <td>0.500</td>\n",
       "      <td>0.4</td>\n",
       "    </tr>\n",
       "    <tr>\n",
       "      <th>3</th>\n",
       "      <td>0.75</td>\n",
       "      <td>0.5</td>\n",
       "      <td>0.812950</td>\n",
       "      <td>0.875</td>\n",
       "      <td>0.6</td>\n",
       "    </tr>\n",
       "    <tr>\n",
       "      <th>4</th>\n",
       "      <td>0.00</td>\n",
       "      <td>0.0</td>\n",
       "      <td>0.517986</td>\n",
       "      <td>0.500</td>\n",
       "      <td>0.2</td>\n",
       "    </tr>\n",
       "  </tbody>\n",
       "</table>\n",
       "</div>"
      ],
      "text/plain": [
       "   rental_duration  rental_rate    length  nr_of_inventories  nr_rentals_may\n",
       "0             0.75          1.0  0.388489              0.375             0.4\n",
       "1             0.25          1.0  0.338129              0.000             0.0\n",
       "2             0.25          0.0  0.705036              0.500             0.4\n",
       "3             0.75          0.5  0.812950              0.875             0.6\n",
       "4             0.00          0.0  0.517986              0.500             0.2"
      ]
     },
     "execution_count": 35,
     "metadata": {},
     "output_type": "execute_result"
    }
   ],
   "source": [
    "X_test_normalized = transformer.transform(X_test_num)\n",
    "df_X_test_normalized = pd.DataFrame(X_test_normalized, columns=X_test_num.columns)\n",
    "df_X_test_normalized.head()"
   ]
  },
  {
   "cell_type": "markdown",
   "id": "90e61f65",
   "metadata": {},
   "source": [
    "#### fit encoder on X_train_cat"
   ]
  },
  {
   "cell_type": "code",
   "execution_count": 36,
   "id": "6eee43f4",
   "metadata": {},
   "outputs": [
    {
     "data": {
      "text/html": [
       "<div>\n",
       "<style scoped>\n",
       "    .dataframe tbody tr th:only-of-type {\n",
       "        vertical-align: middle;\n",
       "    }\n",
       "\n",
       "    .dataframe tbody tr th {\n",
       "        vertical-align: top;\n",
       "    }\n",
       "\n",
       "    .dataframe thead th {\n",
       "        text-align: right;\n",
       "    }\n",
       "</style>\n",
       "<table border=\"1\" class=\"dataframe\">\n",
       "  <thead>\n",
       "    <tr style=\"text-align: right;\">\n",
       "      <th></th>\n",
       "      <th>rating</th>\n",
       "      <th>category_name</th>\n",
       "    </tr>\n",
       "  </thead>\n",
       "  <tbody>\n",
       "    <tr>\n",
       "      <th>253</th>\n",
       "      <td>PG-13</td>\n",
       "      <td>Sports</td>\n",
       "    </tr>\n",
       "    <tr>\n",
       "      <th>667</th>\n",
       "      <td>PG</td>\n",
       "      <td>Sports</td>\n",
       "    </tr>\n",
       "    <tr>\n",
       "      <th>85</th>\n",
       "      <td>R</td>\n",
       "      <td>Music</td>\n",
       "    </tr>\n",
       "    <tr>\n",
       "      <th>969</th>\n",
       "      <td>NC-17</td>\n",
       "      <td>Classics</td>\n",
       "    </tr>\n",
       "    <tr>\n",
       "      <th>75</th>\n",
       "      <td>NC-17</td>\n",
       "      <td>Music</td>\n",
       "    </tr>\n",
       "  </tbody>\n",
       "</table>\n",
       "</div>"
      ],
      "text/plain": [
       "    rating category_name\n",
       "253  PG-13        Sports\n",
       "667     PG        Sports\n",
       "85       R         Music\n",
       "969  NC-17      Classics\n",
       "75   NC-17         Music"
      ]
     },
     "execution_count": 36,
     "metadata": {},
     "output_type": "execute_result"
    }
   ],
   "source": [
    "X_train_cat.head()"
   ]
  },
  {
   "cell_type": "code",
   "execution_count": 37,
   "id": "158c6665",
   "metadata": {},
   "outputs": [],
   "source": [
    "encoder = OneHotEncoder(drop='first').fit(X_train_cat)"
   ]
  },
  {
   "cell_type": "markdown",
   "id": "298d08b2",
   "metadata": {},
   "source": [
    "#### run encoder on X_train_cat : X_train_encoded\n",
    "#### run same encoder on X_test_cat : X_test_encoded"
   ]
  },
  {
   "cell_type": "code",
   "execution_count": 38,
   "id": "304c698f",
   "metadata": {},
   "outputs": [
    {
     "data": {
      "text/html": [
       "<div>\n",
       "<style scoped>\n",
       "    .dataframe tbody tr th:only-of-type {\n",
       "        vertical-align: middle;\n",
       "    }\n",
       "\n",
       "    .dataframe tbody tr th {\n",
       "        vertical-align: top;\n",
       "    }\n",
       "\n",
       "    .dataframe thead th {\n",
       "        text-align: right;\n",
       "    }\n",
       "</style>\n",
       "<table border=\"1\" class=\"dataframe\">\n",
       "  <thead>\n",
       "    <tr style=\"text-align: right;\">\n",
       "      <th></th>\n",
       "      <th>rating_NC-17</th>\n",
       "      <th>rating_PG</th>\n",
       "      <th>rating_PG-13</th>\n",
       "      <th>rating_R</th>\n",
       "      <th>category_name_Animation</th>\n",
       "      <th>category_name_Children</th>\n",
       "      <th>category_name_Classics</th>\n",
       "      <th>category_name_Comedy</th>\n",
       "      <th>category_name_Documentary</th>\n",
       "      <th>category_name_Drama</th>\n",
       "      <th>category_name_Family</th>\n",
       "      <th>category_name_Foreign</th>\n",
       "      <th>category_name_Games</th>\n",
       "      <th>category_name_Horror</th>\n",
       "      <th>category_name_Music</th>\n",
       "      <th>category_name_New</th>\n",
       "      <th>category_name_Sci-Fi</th>\n",
       "      <th>category_name_Sports</th>\n",
       "      <th>category_name_Travel</th>\n",
       "    </tr>\n",
       "  </thead>\n",
       "  <tbody>\n",
       "    <tr>\n",
       "      <th>0</th>\n",
       "      <td>0.0</td>\n",
       "      <td>0.0</td>\n",
       "      <td>1.0</td>\n",
       "      <td>0.0</td>\n",
       "      <td>0.0</td>\n",
       "      <td>0.0</td>\n",
       "      <td>0.0</td>\n",
       "      <td>0.0</td>\n",
       "      <td>0.0</td>\n",
       "      <td>0.0</td>\n",
       "      <td>0.0</td>\n",
       "      <td>0.0</td>\n",
       "      <td>0.0</td>\n",
       "      <td>0.0</td>\n",
       "      <td>0.0</td>\n",
       "      <td>0.0</td>\n",
       "      <td>0.0</td>\n",
       "      <td>1.0</td>\n",
       "      <td>0.0</td>\n",
       "    </tr>\n",
       "    <tr>\n",
       "      <th>1</th>\n",
       "      <td>0.0</td>\n",
       "      <td>1.0</td>\n",
       "      <td>0.0</td>\n",
       "      <td>0.0</td>\n",
       "      <td>0.0</td>\n",
       "      <td>0.0</td>\n",
       "      <td>0.0</td>\n",
       "      <td>0.0</td>\n",
       "      <td>0.0</td>\n",
       "      <td>0.0</td>\n",
       "      <td>0.0</td>\n",
       "      <td>0.0</td>\n",
       "      <td>0.0</td>\n",
       "      <td>0.0</td>\n",
       "      <td>0.0</td>\n",
       "      <td>0.0</td>\n",
       "      <td>0.0</td>\n",
       "      <td>1.0</td>\n",
       "      <td>0.0</td>\n",
       "    </tr>\n",
       "    <tr>\n",
       "      <th>2</th>\n",
       "      <td>0.0</td>\n",
       "      <td>0.0</td>\n",
       "      <td>0.0</td>\n",
       "      <td>1.0</td>\n",
       "      <td>0.0</td>\n",
       "      <td>0.0</td>\n",
       "      <td>0.0</td>\n",
       "      <td>0.0</td>\n",
       "      <td>0.0</td>\n",
       "      <td>0.0</td>\n",
       "      <td>0.0</td>\n",
       "      <td>0.0</td>\n",
       "      <td>0.0</td>\n",
       "      <td>0.0</td>\n",
       "      <td>1.0</td>\n",
       "      <td>0.0</td>\n",
       "      <td>0.0</td>\n",
       "      <td>0.0</td>\n",
       "      <td>0.0</td>\n",
       "    </tr>\n",
       "    <tr>\n",
       "      <th>3</th>\n",
       "      <td>1.0</td>\n",
       "      <td>0.0</td>\n",
       "      <td>0.0</td>\n",
       "      <td>0.0</td>\n",
       "      <td>0.0</td>\n",
       "      <td>0.0</td>\n",
       "      <td>1.0</td>\n",
       "      <td>0.0</td>\n",
       "      <td>0.0</td>\n",
       "      <td>0.0</td>\n",
       "      <td>0.0</td>\n",
       "      <td>0.0</td>\n",
       "      <td>0.0</td>\n",
       "      <td>0.0</td>\n",
       "      <td>0.0</td>\n",
       "      <td>0.0</td>\n",
       "      <td>0.0</td>\n",
       "      <td>0.0</td>\n",
       "      <td>0.0</td>\n",
       "    </tr>\n",
       "    <tr>\n",
       "      <th>4</th>\n",
       "      <td>1.0</td>\n",
       "      <td>0.0</td>\n",
       "      <td>0.0</td>\n",
       "      <td>0.0</td>\n",
       "      <td>0.0</td>\n",
       "      <td>0.0</td>\n",
       "      <td>0.0</td>\n",
       "      <td>0.0</td>\n",
       "      <td>0.0</td>\n",
       "      <td>0.0</td>\n",
       "      <td>0.0</td>\n",
       "      <td>0.0</td>\n",
       "      <td>0.0</td>\n",
       "      <td>0.0</td>\n",
       "      <td>1.0</td>\n",
       "      <td>0.0</td>\n",
       "      <td>0.0</td>\n",
       "      <td>0.0</td>\n",
       "      <td>0.0</td>\n",
       "    </tr>\n",
       "  </tbody>\n",
       "</table>\n",
       "</div>"
      ],
      "text/plain": [
       "   rating_NC-17  rating_PG  rating_PG-13  rating_R  category_name_Animation  \\\n",
       "0           0.0        0.0           1.0       0.0                      0.0   \n",
       "1           0.0        1.0           0.0       0.0                      0.0   \n",
       "2           0.0        0.0           0.0       1.0                      0.0   \n",
       "3           1.0        0.0           0.0       0.0                      0.0   \n",
       "4           1.0        0.0           0.0       0.0                      0.0   \n",
       "\n",
       "   category_name_Children  category_name_Classics  category_name_Comedy  \\\n",
       "0                     0.0                     0.0                   0.0   \n",
       "1                     0.0                     0.0                   0.0   \n",
       "2                     0.0                     0.0                   0.0   \n",
       "3                     0.0                     1.0                   0.0   \n",
       "4                     0.0                     0.0                   0.0   \n",
       "\n",
       "   category_name_Documentary  category_name_Drama  category_name_Family  \\\n",
       "0                        0.0                  0.0                   0.0   \n",
       "1                        0.0                  0.0                   0.0   \n",
       "2                        0.0                  0.0                   0.0   \n",
       "3                        0.0                  0.0                   0.0   \n",
       "4                        0.0                  0.0                   0.0   \n",
       "\n",
       "   category_name_Foreign  category_name_Games  category_name_Horror  \\\n",
       "0                    0.0                  0.0                   0.0   \n",
       "1                    0.0                  0.0                   0.0   \n",
       "2                    0.0                  0.0                   0.0   \n",
       "3                    0.0                  0.0                   0.0   \n",
       "4                    0.0                  0.0                   0.0   \n",
       "\n",
       "   category_name_Music  category_name_New  category_name_Sci-Fi  \\\n",
       "0                  0.0                0.0                   0.0   \n",
       "1                  0.0                0.0                   0.0   \n",
       "2                  1.0                0.0                   0.0   \n",
       "3                  0.0                0.0                   0.0   \n",
       "4                  1.0                0.0                   0.0   \n",
       "\n",
       "   category_name_Sports  category_name_Travel  \n",
       "0                   1.0                   0.0  \n",
       "1                   1.0                   0.0  \n",
       "2                   0.0                   0.0  \n",
       "3                   0.0                   0.0  \n",
       "4                   0.0                   0.0  "
      ]
     },
     "execution_count": 38,
     "metadata": {},
     "output_type": "execute_result"
    }
   ],
   "source": [
    "# Getting names of columns to be able to label features\n",
    "cols = encoder.get_feature_names_out(input_features=X_train_cat.columns)\n",
    "\n",
    "# Running encoder on a X_train_cat\n",
    "X_train_cat_encoded = encoder.transform(X_train_cat).toarray()\n",
    "df_X_train_cat_encoded = pd.DataFrame(X_train_cat_encoded, columns=cols)\n",
    "df_X_train_cat_encoded.head()"
   ]
  },
  {
   "cell_type": "code",
   "execution_count": 39,
   "id": "17312978",
   "metadata": {},
   "outputs": [
    {
     "data": {
      "text/html": [
       "<div>\n",
       "<style scoped>\n",
       "    .dataframe tbody tr th:only-of-type {\n",
       "        vertical-align: middle;\n",
       "    }\n",
       "\n",
       "    .dataframe tbody tr th {\n",
       "        vertical-align: top;\n",
       "    }\n",
       "\n",
       "    .dataframe thead th {\n",
       "        text-align: right;\n",
       "    }\n",
       "</style>\n",
       "<table border=\"1\" class=\"dataframe\">\n",
       "  <thead>\n",
       "    <tr style=\"text-align: right;\">\n",
       "      <th></th>\n",
       "      <th>rating_NC-17</th>\n",
       "      <th>rating_PG</th>\n",
       "      <th>rating_PG-13</th>\n",
       "      <th>rating_R</th>\n",
       "      <th>category_name_Animation</th>\n",
       "      <th>category_name_Children</th>\n",
       "      <th>category_name_Classics</th>\n",
       "      <th>category_name_Comedy</th>\n",
       "      <th>category_name_Documentary</th>\n",
       "      <th>category_name_Drama</th>\n",
       "      <th>category_name_Family</th>\n",
       "      <th>category_name_Foreign</th>\n",
       "      <th>category_name_Games</th>\n",
       "      <th>category_name_Horror</th>\n",
       "      <th>category_name_Music</th>\n",
       "      <th>category_name_New</th>\n",
       "      <th>category_name_Sci-Fi</th>\n",
       "      <th>category_name_Sports</th>\n",
       "      <th>category_name_Travel</th>\n",
       "    </tr>\n",
       "  </thead>\n",
       "  <tbody>\n",
       "    <tr>\n",
       "      <th>0</th>\n",
       "      <td>0.0</td>\n",
       "      <td>0.0</td>\n",
       "      <td>1.0</td>\n",
       "      <td>0.0</td>\n",
       "      <td>0.0</td>\n",
       "      <td>0.0</td>\n",
       "      <td>0.0</td>\n",
       "      <td>0.0</td>\n",
       "      <td>0.0</td>\n",
       "      <td>0.0</td>\n",
       "      <td>0.0</td>\n",
       "      <td>0.0</td>\n",
       "      <td>0.0</td>\n",
       "      <td>0.0</td>\n",
       "      <td>0.0</td>\n",
       "      <td>1.0</td>\n",
       "      <td>0.0</td>\n",
       "      <td>0.0</td>\n",
       "      <td>0.0</td>\n",
       "    </tr>\n",
       "    <tr>\n",
       "      <th>1</th>\n",
       "      <td>0.0</td>\n",
       "      <td>0.0</td>\n",
       "      <td>0.0</td>\n",
       "      <td>0.0</td>\n",
       "      <td>0.0</td>\n",
       "      <td>0.0</td>\n",
       "      <td>0.0</td>\n",
       "      <td>0.0</td>\n",
       "      <td>0.0</td>\n",
       "      <td>0.0</td>\n",
       "      <td>0.0</td>\n",
       "      <td>0.0</td>\n",
       "      <td>0.0</td>\n",
       "      <td>0.0</td>\n",
       "      <td>0.0</td>\n",
       "      <td>0.0</td>\n",
       "      <td>1.0</td>\n",
       "      <td>0.0</td>\n",
       "      <td>0.0</td>\n",
       "    </tr>\n",
       "    <tr>\n",
       "      <th>2</th>\n",
       "      <td>0.0</td>\n",
       "      <td>0.0</td>\n",
       "      <td>1.0</td>\n",
       "      <td>0.0</td>\n",
       "      <td>0.0</td>\n",
       "      <td>0.0</td>\n",
       "      <td>0.0</td>\n",
       "      <td>0.0</td>\n",
       "      <td>0.0</td>\n",
       "      <td>0.0</td>\n",
       "      <td>0.0</td>\n",
       "      <td>0.0</td>\n",
       "      <td>0.0</td>\n",
       "      <td>0.0</td>\n",
       "      <td>0.0</td>\n",
       "      <td>0.0</td>\n",
       "      <td>0.0</td>\n",
       "      <td>0.0</td>\n",
       "      <td>1.0</td>\n",
       "    </tr>\n",
       "    <tr>\n",
       "      <th>3</th>\n",
       "      <td>0.0</td>\n",
       "      <td>0.0</td>\n",
       "      <td>0.0</td>\n",
       "      <td>0.0</td>\n",
       "      <td>0.0</td>\n",
       "      <td>0.0</td>\n",
       "      <td>1.0</td>\n",
       "      <td>0.0</td>\n",
       "      <td>0.0</td>\n",
       "      <td>0.0</td>\n",
       "      <td>0.0</td>\n",
       "      <td>0.0</td>\n",
       "      <td>0.0</td>\n",
       "      <td>0.0</td>\n",
       "      <td>0.0</td>\n",
       "      <td>0.0</td>\n",
       "      <td>0.0</td>\n",
       "      <td>0.0</td>\n",
       "      <td>0.0</td>\n",
       "    </tr>\n",
       "    <tr>\n",
       "      <th>4</th>\n",
       "      <td>0.0</td>\n",
       "      <td>0.0</td>\n",
       "      <td>1.0</td>\n",
       "      <td>0.0</td>\n",
       "      <td>0.0</td>\n",
       "      <td>0.0</td>\n",
       "      <td>0.0</td>\n",
       "      <td>0.0</td>\n",
       "      <td>0.0</td>\n",
       "      <td>0.0</td>\n",
       "      <td>0.0</td>\n",
       "      <td>0.0</td>\n",
       "      <td>0.0</td>\n",
       "      <td>0.0</td>\n",
       "      <td>1.0</td>\n",
       "      <td>0.0</td>\n",
       "      <td>0.0</td>\n",
       "      <td>0.0</td>\n",
       "      <td>0.0</td>\n",
       "    </tr>\n",
       "  </tbody>\n",
       "</table>\n",
       "</div>"
      ],
      "text/plain": [
       "   rating_NC-17  rating_PG  rating_PG-13  rating_R  category_name_Animation  \\\n",
       "0           0.0        0.0           1.0       0.0                      0.0   \n",
       "1           0.0        0.0           0.0       0.0                      0.0   \n",
       "2           0.0        0.0           1.0       0.0                      0.0   \n",
       "3           0.0        0.0           0.0       0.0                      0.0   \n",
       "4           0.0        0.0           1.0       0.0                      0.0   \n",
       "\n",
       "   category_name_Children  category_name_Classics  category_name_Comedy  \\\n",
       "0                     0.0                     0.0                   0.0   \n",
       "1                     0.0                     0.0                   0.0   \n",
       "2                     0.0                     0.0                   0.0   \n",
       "3                     0.0                     1.0                   0.0   \n",
       "4                     0.0                     0.0                   0.0   \n",
       "\n",
       "   category_name_Documentary  category_name_Drama  category_name_Family  \\\n",
       "0                        0.0                  0.0                   0.0   \n",
       "1                        0.0                  0.0                   0.0   \n",
       "2                        0.0                  0.0                   0.0   \n",
       "3                        0.0                  0.0                   0.0   \n",
       "4                        0.0                  0.0                   0.0   \n",
       "\n",
       "   category_name_Foreign  category_name_Games  category_name_Horror  \\\n",
       "0                    0.0                  0.0                   0.0   \n",
       "1                    0.0                  0.0                   0.0   \n",
       "2                    0.0                  0.0                   0.0   \n",
       "3                    0.0                  0.0                   0.0   \n",
       "4                    0.0                  0.0                   0.0   \n",
       "\n",
       "   category_name_Music  category_name_New  category_name_Sci-Fi  \\\n",
       "0                  0.0                1.0                   0.0   \n",
       "1                  0.0                0.0                   1.0   \n",
       "2                  0.0                0.0                   0.0   \n",
       "3                  0.0                0.0                   0.0   \n",
       "4                  1.0                0.0                   0.0   \n",
       "\n",
       "   category_name_Sports  category_name_Travel  \n",
       "0                   0.0                   0.0  \n",
       "1                   0.0                   0.0  \n",
       "2                   0.0                   1.0  \n",
       "3                   0.0                   0.0  \n",
       "4                   0.0                   0.0  "
      ]
     },
     "execution_count": 39,
     "metadata": {},
     "output_type": "execute_result"
    }
   ],
   "source": [
    "# Running encoder on a X_test_cat\n",
    "X_test_cat_encoded = encoder.transform(X_test_cat).toarray()\n",
    "df_X_test_cat_encoded = pd.DataFrame(X_test_cat_encoded, columns=cols)\n",
    "df_X_test_cat_encoded.head()"
   ]
  },
  {
   "cell_type": "markdown",
   "id": "98ac9eb7",
   "metadata": {},
   "source": [
    "#### concat X_train_normalized and X_train_encoded : X_train_transformed"
   ]
  },
  {
   "cell_type": "code",
   "execution_count": 40,
   "id": "f3cea6c6",
   "metadata": {},
   "outputs": [],
   "source": [
    "X_train_transformed = np.concatenate([X_train_normalized, X_train_cat_encoded], axis=1)"
   ]
  },
  {
   "cell_type": "markdown",
   "id": "a62a62de",
   "metadata": {},
   "source": [
    "### 5. Create a logistic regression model to predict 'rented_in_may' from the cleaned data."
   ]
  },
  {
   "cell_type": "markdown",
   "id": "9b7ab6c0",
   "metadata": {},
   "source": [
    "#### - fit (train) model in X_train_transformed      : model"
   ]
  },
  {
   "cell_type": "code",
   "execution_count": 41,
   "id": "5ddc3299",
   "metadata": {},
   "outputs": [
    {
     "data": {
      "text/html": [
       "<style>#sk-container-id-1 {color: black;background-color: white;}#sk-container-id-1 pre{padding: 0;}#sk-container-id-1 div.sk-toggleable {background-color: white;}#sk-container-id-1 label.sk-toggleable__label {cursor: pointer;display: block;width: 100%;margin-bottom: 0;padding: 0.3em;box-sizing: border-box;text-align: center;}#sk-container-id-1 label.sk-toggleable__label-arrow:before {content: \"▸\";float: left;margin-right: 0.25em;color: #696969;}#sk-container-id-1 label.sk-toggleable__label-arrow:hover:before {color: black;}#sk-container-id-1 div.sk-estimator:hover label.sk-toggleable__label-arrow:before {color: black;}#sk-container-id-1 div.sk-toggleable__content {max-height: 0;max-width: 0;overflow: hidden;text-align: left;background-color: #f0f8ff;}#sk-container-id-1 div.sk-toggleable__content pre {margin: 0.2em;color: black;border-radius: 0.25em;background-color: #f0f8ff;}#sk-container-id-1 input.sk-toggleable__control:checked~div.sk-toggleable__content {max-height: 200px;max-width: 100%;overflow: auto;}#sk-container-id-1 input.sk-toggleable__control:checked~label.sk-toggleable__label-arrow:before {content: \"▾\";}#sk-container-id-1 div.sk-estimator input.sk-toggleable__control:checked~label.sk-toggleable__label {background-color: #d4ebff;}#sk-container-id-1 div.sk-label input.sk-toggleable__control:checked~label.sk-toggleable__label {background-color: #d4ebff;}#sk-container-id-1 input.sk-hidden--visually {border: 0;clip: rect(1px 1px 1px 1px);clip: rect(1px, 1px, 1px, 1px);height: 1px;margin: -1px;overflow: hidden;padding: 0;position: absolute;width: 1px;}#sk-container-id-1 div.sk-estimator {font-family: monospace;background-color: #f0f8ff;border: 1px dotted black;border-radius: 0.25em;box-sizing: border-box;margin-bottom: 0.5em;}#sk-container-id-1 div.sk-estimator:hover {background-color: #d4ebff;}#sk-container-id-1 div.sk-parallel-item::after {content: \"\";width: 100%;border-bottom: 1px solid gray;flex-grow: 1;}#sk-container-id-1 div.sk-label:hover label.sk-toggleable__label {background-color: #d4ebff;}#sk-container-id-1 div.sk-serial::before {content: \"\";position: absolute;border-left: 1px solid gray;box-sizing: border-box;top: 0;bottom: 0;left: 50%;z-index: 0;}#sk-container-id-1 div.sk-serial {display: flex;flex-direction: column;align-items: center;background-color: white;padding-right: 0.2em;padding-left: 0.2em;position: relative;}#sk-container-id-1 div.sk-item {position: relative;z-index: 1;}#sk-container-id-1 div.sk-parallel {display: flex;align-items: stretch;justify-content: center;background-color: white;position: relative;}#sk-container-id-1 div.sk-item::before, #sk-container-id-1 div.sk-parallel-item::before {content: \"\";position: absolute;border-left: 1px solid gray;box-sizing: border-box;top: 0;bottom: 0;left: 50%;z-index: -1;}#sk-container-id-1 div.sk-parallel-item {display: flex;flex-direction: column;z-index: 1;position: relative;background-color: white;}#sk-container-id-1 div.sk-parallel-item:first-child::after {align-self: flex-end;width: 50%;}#sk-container-id-1 div.sk-parallel-item:last-child::after {align-self: flex-start;width: 50%;}#sk-container-id-1 div.sk-parallel-item:only-child::after {width: 0;}#sk-container-id-1 div.sk-dashed-wrapped {border: 1px dashed gray;margin: 0 0.4em 0.5em 0.4em;box-sizing: border-box;padding-bottom: 0.4em;background-color: white;}#sk-container-id-1 div.sk-label label {font-family: monospace;font-weight: bold;display: inline-block;line-height: 1.2em;}#sk-container-id-1 div.sk-label-container {text-align: center;}#sk-container-id-1 div.sk-container {/* jupyter's `normalize.less` sets `[hidden] { display: none; }` but bootstrap.min.css set `[hidden] { display: none !important; }` so we also need the `!important` here to be able to override the default hidden behavior on the sphinx rendered scikit-learn.org. See: https://github.com/scikit-learn/scikit-learn/issues/21755 */display: inline-block !important;position: relative;}#sk-container-id-1 div.sk-text-repr-fallback {display: none;}</style><div id=\"sk-container-id-1\" class=\"sk-top-container\"><div class=\"sk-text-repr-fallback\"><pre>LogisticRegression(random_state=0)</pre><b>In a Jupyter environment, please rerun this cell to show the HTML representation or trust the notebook. <br />On GitHub, the HTML representation is unable to render, please try loading this page with nbviewer.org.</b></div><div class=\"sk-container\" hidden><div class=\"sk-item\"><div class=\"sk-estimator sk-toggleable\"><input class=\"sk-toggleable__control sk-hidden--visually\" id=\"sk-estimator-id-1\" type=\"checkbox\" checked><label for=\"sk-estimator-id-1\" class=\"sk-toggleable__label sk-toggleable__label-arrow\">LogisticRegression</label><div class=\"sk-toggleable__content\"><pre>LogisticRegression(random_state=0)</pre></div></div></div></div></div>"
      ],
      "text/plain": [
       "LogisticRegression(random_state=0)"
      ]
     },
     "execution_count": 41,
     "metadata": {},
     "output_type": "execute_result"
    }
   ],
   "source": [
    "# Creating a logistic model\n",
    "LR = LogisticRegression(random_state=0, solver='lbfgs')  # Actually we should take random_state away\n",
    "LR.fit(X_train_transformed, y_train)"
   ]
  },
  {
   "cell_type": "markdown",
   "id": "f4a8c8fe",
   "metadata": {},
   "source": [
    "#### concat X_test_normalized and X_test_encoded : X_test_transformed"
   ]
  },
  {
   "cell_type": "code",
   "execution_count": 42,
   "id": "35a316e5",
   "metadata": {},
   "outputs": [],
   "source": [
    "X_test_transformed = np.concatenate([X_test_normalized, X_test_cat_encoded], axis=1)"
   ]
  },
  {
   "cell_type": "markdown",
   "id": "79c0dba3",
   "metadata": {},
   "source": [
    "#### make predictions using X_test_transfomed      : model.predict -> predictions\n"
   ]
  },
  {
   "cell_type": "code",
   "execution_count": 43,
   "id": "e28b9d4c",
   "metadata": {},
   "outputs": [],
   "source": [
    "pred = LR.predict(X_test_transformed)"
   ]
  },
  {
   "cell_type": "code",
   "execution_count": null,
   "id": "1b0e7e3e",
   "metadata": {},
   "outputs": [],
   "source": []
  },
  {
   "cell_type": "markdown",
   "id": "d9317f4b",
   "metadata": {},
   "source": [
    "### 6. Evaluate the results."
   ]
  },
  {
   "cell_type": "markdown",
   "id": "13510798",
   "metadata": {},
   "source": [
    "#### compute score using predictions and y_test"
   ]
  },
  {
   "cell_type": "code",
   "execution_count": 44,
   "id": "1e860b3b",
   "metadata": {},
   "outputs": [
    {
     "data": {
      "text/plain": [
       "1.0"
      ]
     },
     "execution_count": 44,
     "metadata": {},
     "output_type": "execute_result"
    }
   ],
   "source": [
    "LR.score(X_test_transformed, y_test)"
   ]
  },
  {
   "cell_type": "code",
   "execution_count": 45,
   "id": "4fb60cfc",
   "metadata": {},
   "outputs": [
    {
     "data": {
      "text/plain": [
       "array([[ 76,   0],\n",
       "       [  0, 174]], dtype=int64)"
      ]
     },
     "execution_count": 45,
     "metadata": {},
     "output_type": "execute_result"
    }
   ],
   "source": [
    "from sklearn.metrics import confusion_matrix\n",
    "confusion_matrix(y_test,pred)"
   ]
  },
  {
   "cell_type": "markdown",
   "id": "f918de06",
   "metadata": {},
   "source": [
    "#### Conclusion:\n",
    "\n",
    "I have a model, which predicts with 100% probability. This means, that one of the features, which I have used to create my model was too highly correlated with the target.\n",
    "After checking again the features I see, that the feature 'nr_rentals_may' which showed the number of rentals in May was too highly correlated with the target. My model used this correlation to create a model and make predictions. \n",
    "\n",
    "We want to make predictions for a new month June, and maybe also be able to predict what kind of movies could be added to the store. We could also try to predict what kind of movies (like comedy or films with special rating or features) could be interesting to add to the store. To do so the model would need to be made again with the all features besides 'nr_rentals_may'. This will give us a realistic point of view on the problem and allow to create a model, which would be useful for that. "
   ]
  },
  {
   "cell_type": "code",
   "execution_count": 46,
   "id": "c25c1fc4",
   "metadata": {},
   "outputs": [
    {
     "name": "stdout",
     "output_type": "stream",
     "text": [
      "precision:  1.0\n",
      "recall:  1.0\n",
      "f1:  1.0\n"
     ]
    }
   ],
   "source": [
    "print(\"precision: \",precision_score(y_test,pred))\n",
    "print(\"recall: \",recall_score(y_test,pred))\n",
    "print(\"f1: \",f1_score(y_test,pred))"
   ]
  },
  {
   "cell_type": "code",
   "execution_count": null,
   "id": "fcc1c0d3",
   "metadata": {},
   "outputs": [],
   "source": []
  }
 ],
 "metadata": {
  "kernelspec": {
   "display_name": "Python 3 (ipykernel)",
   "language": "python",
   "name": "python3"
  },
  "language_info": {
   "codemirror_mode": {
    "name": "ipython",
    "version": 3
   },
   "file_extension": ".py",
   "mimetype": "text/x-python",
   "name": "python",
   "nbconvert_exporter": "python",
   "pygments_lexer": "ipython3",
   "version": "3.11.5"
  }
 },
 "nbformat": 4,
 "nbformat_minor": 5
}
